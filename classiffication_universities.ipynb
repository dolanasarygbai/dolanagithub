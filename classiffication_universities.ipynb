{
 "cells": [
  {
   "cell_type": "code",
   "execution_count": 1,
   "metadata": {},
   "outputs": [
    {
     "name": "stdout",
     "output_type": "stream",
     "text": [
      "Requirement already satisfied: stop-words in c:\\programdata\\anaconda3\\lib\\site-packages (2018.7.23)\n"
     ]
    }
   ],
   "source": [
    "import pandas as pd\n",
    "import numpy as np\n",
    "import re\n",
    "\n",
    "\n",
    "!pip install stop-words\n",
    "\n",
    "import stop_words\n",
    "\n"
   ]
  },
  {
   "cell_type": "code",
   "execution_count": 2,
   "metadata": {},
   "outputs": [],
   "source": [
    "import nltk"
   ]
  },
  {
   "cell_type": "code",
   "execution_count": 3,
   "metadata": {},
   "outputs": [],
   "source": [
    "from nltk.stem import  SnowballStemmer"
   ]
  },
  {
   "cell_type": "code",
   "execution_count": 4,
   "metadata": {},
   "outputs": [],
   "source": [
    "stemmer_ru = SnowballStemmer('russian')\n",
    "stemmer_eng = SnowballStemmer('english')"
   ]
  },
  {
   "cell_type": "code",
   "execution_count": 5,
   "metadata": {},
   "outputs": [],
   "source": [
    "from nltk import word_tokenize"
   ]
  },
  {
   "cell_type": "code",
   "execution_count": 6,
   "metadata": {},
   "outputs": [],
   "source": [
    "from nltk.corpus import stopwords\n",
    "stop_ru = set(stopwords.words('russian'))\n",
    "stop =  stop_ru | set(stop_words.get_stop_words('ru')) -set('год')"
   ]
  },
  {
   "cell_type": "code",
   "execution_count": 7,
   "metadata": {},
   "outputs": [],
   "source": [
    "from sklearn.linear_model import LogisticRegression"
   ]
  },
  {
   "cell_type": "code",
   "execution_count": 8,
   "metadata": {},
   "outputs": [],
   "source": [
    "from sklearn.feature_extraction.text import TfidfVectorizer"
   ]
  },
  {
   "cell_type": "code",
   "execution_count": 9,
   "metadata": {},
   "outputs": [],
   "source": [
    "from sklearn.linear_model import LogisticRegression"
   ]
  },
  {
   "cell_type": "code",
   "execution_count": 10,
   "metadata": {},
   "outputs": [],
   "source": [
    "from sklearn.model_selection import cross_val_score, train_test_split, StratifiedKFold, GridSearchCV"
   ]
  },
  {
   "cell_type": "code",
   "execution_count": 11,
   "metadata": {},
   "outputs": [],
   "source": [
    "from sklearn.ensemble import RandomForestClassifier"
   ]
  },
  {
   "cell_type": "code",
   "execution_count": 12,
   "metadata": {},
   "outputs": [],
   "source": [
    "from sklearn.svm import SVC"
   ]
  },
  {
   "cell_type": "code",
   "execution_count": 13,
   "metadata": {},
   "outputs": [],
   "source": [
    "from sklearn.metrics import f1_score, confusion_matrix, accuracy_score, recall_score, precision_score"
   ]
  },
  {
   "cell_type": "code",
   "execution_count": 14,
   "metadata": {},
   "outputs": [],
   "source": [
    "from scipy.sparse import csr_matrix,hstack"
   ]
  },
  {
   "cell_type": "code",
   "execution_count": 38,
   "metadata": {},
   "outputs": [],
   "source": []
  },
  {
   "cell_type": "code",
   "execution_count": 6,
   "metadata": {},
   "outputs": [
    {
     "ename": "NameError",
     "evalue": "name 'df1' is not defined",
     "output_type": "error",
     "traceback": [
      "\u001b[1;31m---------------------------------------------------------------------------\u001b[0m",
      "\u001b[1;31mNameError\u001b[0m                                 Traceback (most recent call last)",
      "\u001b[1;32m<ipython-input-6-e55bb665ba13>\u001b[0m in \u001b[0;36m<module>\u001b[1;34m\u001b[0m\n\u001b[1;32m----> 1\u001b[1;33m \u001b[0mdf1\u001b[0m\u001b[1;33m.\u001b[0m\u001b[0mhead\u001b[0m\u001b[1;33m(\u001b[0m\u001b[1;36m5\u001b[0m\u001b[1;33m)\u001b[0m\u001b[1;33m\u001b[0m\u001b[1;33m\u001b[0m\u001b[0m\n\u001b[0m",
      "\u001b[1;31mNameError\u001b[0m: name 'df1' is not defined"
     ]
    }
   ],
   "source": [
    "df1.head(5)"
   ]
  },
  {
   "cell_type": "code",
   "execution_count": 15,
   "metadata": {},
   "outputs": [],
   "source": [
    "df1 = pd.read_csv('data_universities.csv', engine='python', sep=';', names=['text', 'class'])\n",
    "\n",
    "#df2 = pd.read_csv('clear_texts_01.csv', sep = ';', encoding = 'cp1251')\n",
    "\n",
    "#df = pd.concat([df1, df2])\n",
    "df = df1.copy()\n",
    "df.drop_duplicates(inplace = True)\n",
    "df['text'] = df['text'].str.replace('<br>', ' ')"
   ]
  },
  {
   "cell_type": "code",
   "execution_count": 16,
   "metadata": {},
   "outputs": [],
   "source": [
    "# Разметим датафрейм \n",
    "# 1,2 - 0\n",
    "# 3,4,5 - 1\n",
    "df['sentiment'] = (df['class'] > 3).astype(int)"
   ]
  },
  {
   "cell_type": "code",
   "execution_count": 17,
   "metadata": {},
   "outputs": [],
   "source": [
    "# drop class\n",
    "df.drop('class', axis=1, inplace=True)"
   ]
  },
  {
   "cell_type": "code",
   "execution_count": 18,
   "metadata": {},
   "outputs": [
    {
     "data": {
      "text/html": [
       "<div>\n",
       "<style scoped>\n",
       "    .dataframe tbody tr th:only-of-type {\n",
       "        vertical-align: middle;\n",
       "    }\n",
       "\n",
       "    .dataframe tbody tr th {\n",
       "        vertical-align: top;\n",
       "    }\n",
       "\n",
       "    .dataframe thead th {\n",
       "        text-align: right;\n",
       "    }\n",
       "</style>\n",
       "<table border=\"1\" class=\"dataframe\">\n",
       "  <thead>\n",
       "    <tr style=\"text-align: right;\">\n",
       "      <th></th>\n",
       "      <th>text</th>\n",
       "      <th>sentiment</th>\n",
       "    </tr>\n",
       "  </thead>\n",
       "  <tbody>\n",
       "    <tr>\n",
       "      <th>0</th>\n",
       "      <td>Даже если ты уже давно не студент двери универ...</td>\n",
       "      <td>1</td>\n",
       "    </tr>\n",
       "    <tr>\n",
       "      <th>1</th>\n",
       "      <td>Основание университету в Томске в составе 4 фа...</td>\n",
       "      <td>1</td>\n",
       "    </tr>\n",
       "    <tr>\n",
       "      <th>2</th>\n",
       "      <td>НАЦИОНАЛЬНЫЙ ИССЛЕДОВАТЕЛЬСКИЙ ТОМСКИЙ ГОСУДАР...</td>\n",
       "      <td>1</td>\n",
       "    </tr>\n",
       "    <tr>\n",
       "      <th>3</th>\n",
       "      <td>Моя жизнь была долго связана с этим университе...</td>\n",
       "      <td>0</td>\n",
       "    </tr>\n",
       "    <tr>\n",
       "      <th>4</th>\n",
       "      <td>Кто такой Тура Партхаяна? Я слышал о нем по те...</td>\n",
       "      <td>1</td>\n",
       "    </tr>\n",
       "  </tbody>\n",
       "</table>\n",
       "</div>"
      ],
      "text/plain": [
       "                                                text  sentiment\n",
       "0  Даже если ты уже давно не студент двери универ...          1\n",
       "1  Основание университету в Томске в составе 4 фа...          1\n",
       "2  НАЦИОНАЛЬНЫЙ ИССЛЕДОВАТЕЛЬСКИЙ ТОМСКИЙ ГОСУДАР...          1\n",
       "3  Моя жизнь была долго связана с этим университе...          0\n",
       "4  Кто такой Тура Партхаяна? Я слышал о нем по те...          1"
      ]
     },
     "execution_count": 18,
     "metadata": {},
     "output_type": "execute_result"
    }
   ],
   "source": [
    "df.head(5)"
   ]
  },
  {
   "cell_type": "code",
   "execution_count": 36,
   "metadata": {},
   "outputs": [],
   "source": [
    "df1.to_csv('classiffication_universities.csv')"
   ]
  },
  {
   "cell_type": "code",
   "execution_count": 20,
   "metadata": {},
   "outputs": [],
   "source": [
    "df.sentiment.replace(2, 1, inplace = True)"
   ]
  },
  {
   "cell_type": "code",
   "execution_count": 21,
   "metadata": {},
   "outputs": [
    {
     "data": {
      "text/plain": [
       "1    200\n",
       "0     42\n",
       "Name: sentiment, dtype: int64"
      ]
     },
     "execution_count": 21,
     "metadata": {},
     "output_type": "execute_result"
    }
   ],
   "source": [
    "df.sentiment.value_counts()"
   ]
  },
  {
   "cell_type": "code",
   "execution_count": 22,
   "metadata": {},
   "outputs": [
    {
     "data": {
      "text/html": [
       "<div>\n",
       "<style scoped>\n",
       "    .dataframe tbody tr th:only-of-type {\n",
       "        vertical-align: middle;\n",
       "    }\n",
       "\n",
       "    .dataframe tbody tr th {\n",
       "        vertical-align: top;\n",
       "    }\n",
       "\n",
       "    .dataframe thead th {\n",
       "        text-align: right;\n",
       "    }\n",
       "</style>\n",
       "<table border=\"1\" class=\"dataframe\">\n",
       "  <thead>\n",
       "    <tr style=\"text-align: right;\">\n",
       "      <th></th>\n",
       "      <th>text</th>\n",
       "      <th>sentiment</th>\n",
       "    </tr>\n",
       "  </thead>\n",
       "  <tbody>\n",
       "    <tr>\n",
       "      <th>0</th>\n",
       "      <td>Даже если ты уже давно не студент двери универ...</td>\n",
       "      <td>1</td>\n",
       "    </tr>\n",
       "    <tr>\n",
       "      <th>1</th>\n",
       "      <td>Основание университету в Томске в составе 4 фа...</td>\n",
       "      <td>1</td>\n",
       "    </tr>\n",
       "    <tr>\n",
       "      <th>2</th>\n",
       "      <td>НАЦИОНАЛЬНЫЙ ИССЛЕДОВАТЕЛЬСКИЙ ТОМСКИЙ ГОСУДАР...</td>\n",
       "      <td>1</td>\n",
       "    </tr>\n",
       "    <tr>\n",
       "      <th>3</th>\n",
       "      <td>Моя жизнь была долго связана с этим университе...</td>\n",
       "      <td>0</td>\n",
       "    </tr>\n",
       "    <tr>\n",
       "      <th>4</th>\n",
       "      <td>Кто такой Тура Партхаяна? Я слышал о нем по те...</td>\n",
       "      <td>1</td>\n",
       "    </tr>\n",
       "    <tr>\n",
       "      <th>5</th>\n",
       "      <td>Ставлю 3 балла и то с натяжкой. Практический з...</td>\n",
       "      <td>0</td>\n",
       "    </tr>\n",
       "    <tr>\n",
       "      <th>6</th>\n",
       "      <td>ТГУ ГГФ дал мне настоящую профессию как по тео...</td>\n",
       "      <td>0</td>\n",
       "    </tr>\n",
       "    <tr>\n",
       "      <th>7</th>\n",
       "      <td>Роща классная, преподаватели добрые, деканат о...</td>\n",
       "      <td>1</td>\n",
       "    </tr>\n",
       "    <tr>\n",
       "      <th>8</th>\n",
       "      <td>Отличные преподаватели, ведь благодаря их чутк...</td>\n",
       "      <td>1</td>\n",
       "    </tr>\n",
       "    <tr>\n",
       "      <th>9</th>\n",
       "      <td>Национальный Исследовательский Томский Государ...</td>\n",
       "      <td>1</td>\n",
       "    </tr>\n",
       "    <tr>\n",
       "      <th>10</th>\n",
       "      <td>Качественное образование и квалифицированный п...</td>\n",
       "      <td>1</td>\n",
       "    </tr>\n",
       "    <tr>\n",
       "      <th>11</th>\n",
       "      <td>Храм науки! Великолепный парк, красивое здание...</td>\n",
       "      <td>1</td>\n",
       "    </tr>\n",
       "    <tr>\n",
       "      <th>12</th>\n",
       "      <td>Потрясающе красиво. Хорошая организация по при...</td>\n",
       "      <td>1</td>\n",
       "    </tr>\n",
       "    <tr>\n",
       "      <th>13</th>\n",
       "      <td>Теплое атмосферное место. А уж когда в коридор...</td>\n",
       "      <td>1</td>\n",
       "    </tr>\n",
       "    <tr>\n",
       "      <th>14</th>\n",
       "      <td>Основная достопримечательность города, хорошая...</td>\n",
       "      <td>1</td>\n",
       "    </tr>\n",
       "    <tr>\n",
       "      <th>15</th>\n",
       "      <td>Старейший и лучший университет Томска\\n</td>\n",
       "      <td>1</td>\n",
       "    </tr>\n",
       "    <tr>\n",
       "      <th>16</th>\n",
       "      <td>Я думаю, что это лучший университет в Томске.\\...</td>\n",
       "      <td>1</td>\n",
       "    </tr>\n",
       "    <tr>\n",
       "      <th>17</th>\n",
       "      <td>Потрясающее красивое здание и площадки с велич...</td>\n",
       "      <td>1</td>\n",
       "    </tr>\n",
       "    <tr>\n",
       "      <th>18</th>\n",
       "      <td>Поэтому я хочу учиться в России, потому что я ...</td>\n",
       "      <td>1</td>\n",
       "    </tr>\n",
       "    <tr>\n",
       "      <th>19</th>\n",
       "      <td>Великолепное здание Университета поразило свои...</td>\n",
       "      <td>1</td>\n",
       "    </tr>\n",
       "    <tr>\n",
       "      <th>20</th>\n",
       "      <td>Здравствуйте, я иностранный студент. Я хочу из...</td>\n",
       "      <td>1</td>\n",
       "    </tr>\n",
       "    <tr>\n",
       "      <th>21</th>\n",
       "      <td>Мечтаю сюда поступить. Сейчас я в 8 классе. Оо...</td>\n",
       "      <td>1</td>\n",
       "    </tr>\n",
       "    <tr>\n",
       "      <th>22</th>\n",
       "      <td>Крурнейший и известнейший ВУЗ и научный центр ...</td>\n",
       "      <td>1</td>\n",
       "    </tr>\n",
       "    <tr>\n",
       "      <th>23</th>\n",
       "      <td>Наконец то один из лучших ВУЗов страны будет в...</td>\n",
       "      <td>1</td>\n",
       "    </tr>\n",
       "    <tr>\n",
       "      <th>24</th>\n",
       "      <td>Отучился на мехмате. Альмаматер ?? Прекрасный ...</td>\n",
       "      <td>1</td>\n",
       "    </tr>\n",
       "    <tr>\n",
       "      <th>25</th>\n",
       "      <td>У меня красный диплом НГУ. Учат кое-как, прогр...</td>\n",
       "      <td>0</td>\n",
       "    </tr>\n",
       "    <tr>\n",
       "      <th>26</th>\n",
       "      <td>Шикарный вуз. Готовят обалденных выпускников. ...</td>\n",
       "      <td>1</td>\n",
       "    </tr>\n",
       "    <tr>\n",
       "      <th>27</th>\n",
       "      <td>Самый лучший вуз за уралом\\n</td>\n",
       "      <td>1</td>\n",
       "    </tr>\n",
       "    <tr>\n",
       "      <th>28</th>\n",
       "      <td>НГУ! Я люблю тебя! Только здесь крышесносная к...</td>\n",
       "      <td>1</td>\n",
       "    </tr>\n",
       "    <tr>\n",
       "      <th>29</th>\n",
       "      <td>На уровне с ТГУ. В целом, не плох.</td>\n",
       "      <td>1</td>\n",
       "    </tr>\n",
       "    <tr>\n",
       "      <th>...</th>\n",
       "      <td>...</td>\n",
       "      <td>...</td>\n",
       "    </tr>\n",
       "    <tr>\n",
       "      <th>212</th>\n",
       "      <td>учился тут полтора года, но большую часть врем...</td>\n",
       "      <td>1</td>\n",
       "    </tr>\n",
       "    <tr>\n",
       "      <th>213</th>\n",
       "      <td>Безумно глупое расположение кабинетов. Сами пр...</td>\n",
       "      <td>0</td>\n",
       "    </tr>\n",
       "    <tr>\n",
       "      <th>214</th>\n",
       "      <td>Пишу отзыв, как абитуриент. Территория универс...</td>\n",
       "      <td>1</td>\n",
       "    </tr>\n",
       "    <tr>\n",
       "      <th>215</th>\n",
       "      <td>Отсталый ВУЗ, отсталый контингент, наблюдается...</td>\n",
       "      <td>0</td>\n",
       "    </tr>\n",
       "    <tr>\n",
       "      <th>216</th>\n",
       "      <td>Первый раз попал сюда, ходил с открытым ртом о...</td>\n",
       "      <td>1</td>\n",
       "    </tr>\n",
       "    <tr>\n",
       "      <th>217</th>\n",
       "      <td>Учат качественно. Если хватило сил продержатьс...</td>\n",
       "      <td>1</td>\n",
       "    </tr>\n",
       "    <tr>\n",
       "      <th>218</th>\n",
       "      <td>Цены в столовке подорожали, а обучение просто ...</td>\n",
       "      <td>1</td>\n",
       "    </tr>\n",
       "    <tr>\n",
       "      <th>219</th>\n",
       "      <td>Красивое монументальное здание, современные ла...</td>\n",
       "      <td>1</td>\n",
       "    </tr>\n",
       "    <tr>\n",
       "      <th>220</th>\n",
       "      <td>Гз потихоньку приводят в порядок, наводят косм...</td>\n",
       "      <td>1</td>\n",
       "    </tr>\n",
       "    <tr>\n",
       "      <th>221</th>\n",
       "      <td>Сложно что-то сказать об этом универе нового, ...</td>\n",
       "      <td>1</td>\n",
       "    </tr>\n",
       "    <tr>\n",
       "      <th>222</th>\n",
       "      <td>Делают ремонт внутри, главная лестница уже гот...</td>\n",
       "      <td>1</td>\n",
       "    </tr>\n",
       "    <tr>\n",
       "      <th>223</th>\n",
       "      <td>Это один из пранков, который вышел из под конт...</td>\n",
       "      <td>1</td>\n",
       "    </tr>\n",
       "    <tr>\n",
       "      <th>224</th>\n",
       "      <td>МГТУ учит думать и выбираться из самых сложных...</td>\n",
       "      <td>1</td>\n",
       "    </tr>\n",
       "    <tr>\n",
       "      <th>225</th>\n",
       "      <td>Не советую для посещения</td>\n",
       "      <td>0</td>\n",
       "    </tr>\n",
       "    <tr>\n",
       "      <th>226</th>\n",
       "      <td>Делателе место для получения образования !!! В...</td>\n",
       "      <td>1</td>\n",
       "    </tr>\n",
       "    <tr>\n",
       "      <th>227</th>\n",
       "      <td>Возможно, здесь дают лучшее образование для ин...</td>\n",
       "      <td>1</td>\n",
       "    </tr>\n",
       "    <tr>\n",
       "      <th>228</th>\n",
       "      <td>Прекрасное здание. Все студенты с беспокойство...</td>\n",
       "      <td>1</td>\n",
       "    </tr>\n",
       "    <tr>\n",
       "      <th>229</th>\n",
       "      <td>Красивое здание, старинный университет, хороши...</td>\n",
       "      <td>1</td>\n",
       "    </tr>\n",
       "    <tr>\n",
       "      <th>230</th>\n",
       "      <td>Один из лучших университетов Москвы!</td>\n",
       "      <td>1</td>\n",
       "    </tr>\n",
       "    <tr>\n",
       "      <th>231</th>\n",
       "      <td>Здесь готовят инженеров широкого профиля!</td>\n",
       "      <td>1</td>\n",
       "    </tr>\n",
       "    <tr>\n",
       "      <th>232</th>\n",
       "      <td>Отличный технический вуз. Настоятельно советую...</td>\n",
       "      <td>1</td>\n",
       "    </tr>\n",
       "    <tr>\n",
       "      <th>233</th>\n",
       "      <td>Закончил этот ВУЗ. Учили хорошо и интересно.</td>\n",
       "      <td>1</td>\n",
       "    </tr>\n",
       "    <tr>\n",
       "      <th>234</th>\n",
       "      <td>Когда ты поступаешь, чувак, в МГТУ, ты сам тог...</td>\n",
       "      <td>1</td>\n",
       "    </tr>\n",
       "    <tr>\n",
       "      <th>235</th>\n",
       "      <td>Уровень образования оставляет желать лучшего</td>\n",
       "      <td>1</td>\n",
       "    </tr>\n",
       "    <tr>\n",
       "      <th>236</th>\n",
       "      <td>Одно из красивейших зданий Москвы. Особенно по...</td>\n",
       "      <td>1</td>\n",
       "    </tr>\n",
       "    <tr>\n",
       "      <th>237</th>\n",
       "      <td>Лучшие преподаватели, халявишь когда хочешь ха...</td>\n",
       "      <td>1</td>\n",
       "    </tr>\n",
       "    <tr>\n",
       "      <th>238</th>\n",
       "      <td>Лучший инженерный ВУЗ страны</td>\n",
       "      <td>1</td>\n",
       "    </tr>\n",
       "    <tr>\n",
       "      <th>239</th>\n",
       "      <td>Учусь пока что первый год, и нравится</td>\n",
       "      <td>1</td>\n",
       "    </tr>\n",
       "    <tr>\n",
       "      <th>240</th>\n",
       "      <td>Лучше чем моя шарага</td>\n",
       "      <td>1</td>\n",
       "    </tr>\n",
       "    <tr>\n",
       "      <th>241</th>\n",
       "      <td>Красивое здание, красивые виды, прекрасные люди</td>\n",
       "      <td>1</td>\n",
       "    </tr>\n",
       "  </tbody>\n",
       "</table>\n",
       "<p>242 rows × 2 columns</p>\n",
       "</div>"
      ],
      "text/plain": [
       "                                                  text  sentiment\n",
       "0    Даже если ты уже давно не студент двери универ...          1\n",
       "1    Основание университету в Томске в составе 4 фа...          1\n",
       "2    НАЦИОНАЛЬНЫЙ ИССЛЕДОВАТЕЛЬСКИЙ ТОМСКИЙ ГОСУДАР...          1\n",
       "3    Моя жизнь была долго связана с этим университе...          0\n",
       "4    Кто такой Тура Партхаяна? Я слышал о нем по те...          1\n",
       "5    Ставлю 3 балла и то с натяжкой. Практический з...          0\n",
       "6    ТГУ ГГФ дал мне настоящую профессию как по тео...          0\n",
       "7    Роща классная, преподаватели добрые, деканат о...          1\n",
       "8    Отличные преподаватели, ведь благодаря их чутк...          1\n",
       "9    Национальный Исследовательский Томский Государ...          1\n",
       "10   Качественное образование и квалифицированный п...          1\n",
       "11   Храм науки! Великолепный парк, красивое здание...          1\n",
       "12   Потрясающе красиво. Хорошая организация по при...          1\n",
       "13   Теплое атмосферное место. А уж когда в коридор...          1\n",
       "14   Основная достопримечательность города, хорошая...          1\n",
       "15             Старейший и лучший университет Томска\\n          1\n",
       "16   Я думаю, что это лучший университет в Томске.\\...          1\n",
       "17   Потрясающее красивое здание и площадки с велич...          1\n",
       "18   Поэтому я хочу учиться в России, потому что я ...          1\n",
       "19   Великолепное здание Университета поразило свои...          1\n",
       "20   Здравствуйте, я иностранный студент. Я хочу из...          1\n",
       "21   Мечтаю сюда поступить. Сейчас я в 8 классе. Оо...          1\n",
       "22   Крурнейший и известнейший ВУЗ и научный центр ...          1\n",
       "23   Наконец то один из лучших ВУЗов страны будет в...          1\n",
       "24   Отучился на мехмате. Альмаматер ?? Прекрасный ...          1\n",
       "25   У меня красный диплом НГУ. Учат кое-как, прогр...          0\n",
       "26   Шикарный вуз. Готовят обалденных выпускников. ...          1\n",
       "27                        Самый лучший вуз за уралом\\n          1\n",
       "28   НГУ! Я люблю тебя! Только здесь крышесносная к...          1\n",
       "29                  На уровне с ТГУ. В целом, не плох.          1\n",
       "..                                                 ...        ...\n",
       "212  учился тут полтора года, но большую часть врем...          1\n",
       "213  Безумно глупое расположение кабинетов. Сами пр...          0\n",
       "214  Пишу отзыв, как абитуриент. Территория универс...          1\n",
       "215  Отсталый ВУЗ, отсталый контингент, наблюдается...          0\n",
       "216  Первый раз попал сюда, ходил с открытым ртом о...          1\n",
       "217  Учат качественно. Если хватило сил продержатьс...          1\n",
       "218  Цены в столовке подорожали, а обучение просто ...          1\n",
       "219  Красивое монументальное здание, современные ла...          1\n",
       "220  Гз потихоньку приводят в порядок, наводят косм...          1\n",
       "221  Сложно что-то сказать об этом универе нового, ...          1\n",
       "222  Делают ремонт внутри, главная лестница уже гот...          1\n",
       "223  Это один из пранков, который вышел из под конт...          1\n",
       "224  МГТУ учит думать и выбираться из самых сложных...          1\n",
       "225                           Не советую для посещения          0\n",
       "226  Делателе место для получения образования !!! В...          1\n",
       "227  Возможно, здесь дают лучшее образование для ин...          1\n",
       "228  Прекрасное здание. Все студенты с беспокойство...          1\n",
       "229  Красивое здание, старинный университет, хороши...          1\n",
       "230               Один из лучших университетов Москвы!          1\n",
       "231          Здесь готовят инженеров широкого профиля!          1\n",
       "232  Отличный технический вуз. Настоятельно советую...          1\n",
       "233       Закончил этот ВУЗ. Учили хорошо и интересно.          1\n",
       "234  Когда ты поступаешь, чувак, в МГТУ, ты сам тог...          1\n",
       "235      Уровень образования оставляет желать лучшего           1\n",
       "236  Одно из красивейших зданий Москвы. Особенно по...          1\n",
       "237  Лучшие преподаватели, халявишь когда хочешь ха...          1\n",
       "238                       Лучший инженерный ВУЗ страны          1\n",
       "239             Учусь пока что первый год, и нравится           1\n",
       "240                               Лучше чем моя шарага          1\n",
       "241    Красивое здание, красивые виды, прекрасные люди          1\n",
       "\n",
       "[242 rows x 2 columns]"
      ]
     },
     "execution_count": 22,
     "metadata": {},
     "output_type": "execute_result"
    }
   ],
   "source": [
    "df"
   ]
  },
  {
   "cell_type": "code",
   "execution_count": 23,
   "metadata": {},
   "outputs": [],
   "source": [
    "df['text'] = df['text'].str.replace(r'\\[[a-zA-Zа-яА-Я\\. \\/\\:\\_\\-0-9\\|\\>\\<\\?\\+\\,]+\\] shared a link.', '')\n",
    "df['text'] = df['text'].str.replace(r'\\[[a-zA-Zа-яА-Я\\. \\/\\:\\_\\-0-9\\|\\>\\<\\?\\+\\,]+\\]', '')\n",
    "df['text'] = df['text'].str.replace(r'(?:(?:https?|ftp):\\/\\/)?[\\w/\\-?=%.&]+\\.[\\w/\\-?=%.&]+', '')\n",
    "df['text'] = df['text'].str.replace('shared a ', '')\n",
    "df['text'] = df['text'].str.replace(r'\\W', ' ')"
   ]
  },
  {
   "cell_type": "code",
   "execution_count": 24,
   "metadata": {},
   "outputs": [],
   "source": [
    "def string_transform(string):\n",
    "    string = re.sub('[\\W0-9]',' ',string)\n",
    "    string = string.split()\n",
    "    string = [stemmer_eng.stem(stemmer_ru.stem(i)) for i in string if i not in stop]\n",
    "\n",
    "    return ' '.join(string)\n",
    "\n",
    "df['new_text'] = df.text.astype(str).apply(string_transform)"
   ]
  },
  {
   "cell_type": "code",
   "execution_count": 25,
   "metadata": {
    "scrolled": true
   },
   "outputs": [],
   "source": [
    "words =(' '.join(df['text'])).split()\n",
    "all_words = nltk.FreqDist(w.lower()for w in words)\n",
    "word_features = [w for (w,ct) in all_words.most_common(20)]"
   ]
  },
  {
   "cell_type": "code",
   "execution_count": 26,
   "metadata": {},
   "outputs": [
    {
     "data": {
      "text/plain": [
       "['в',\n",
       " 'и',\n",
       " 'не',\n",
       " 'на',\n",
       " 'что',\n",
       " 'с',\n",
       " 'университет',\n",
       " 'по',\n",
       " 'из',\n",
       " 'для',\n",
       " 'это',\n",
       " 'я',\n",
       " 'но',\n",
       " 'вуз',\n",
       " 'а',\n",
       " 'как',\n",
       " 'за',\n",
       " 'здесь',\n",
       " 'очень',\n",
       " 'россии']"
      ]
     },
     "execution_count": 26,
     "metadata": {},
     "output_type": "execute_result"
    }
   ],
   "source": [
    "word_features"
   ]
  },
  {
   "cell_type": "code",
   "execution_count": 27,
   "metadata": {},
   "outputs": [
    {
     "data": {
      "text/html": [
       "<div>\n",
       "<style scoped>\n",
       "    .dataframe tbody tr th:only-of-type {\n",
       "        vertical-align: middle;\n",
       "    }\n",
       "\n",
       "    .dataframe tbody tr th {\n",
       "        vertical-align: top;\n",
       "    }\n",
       "\n",
       "    .dataframe thead th {\n",
       "        text-align: right;\n",
       "    }\n",
       "</style>\n",
       "<table border=\"1\" class=\"dataframe\">\n",
       "  <thead>\n",
       "    <tr style=\"text-align: right;\">\n",
       "      <th></th>\n",
       "      <th>text</th>\n",
       "      <th>sentiment</th>\n",
       "      <th>new_text</th>\n",
       "    </tr>\n",
       "  </thead>\n",
       "  <tbody>\n",
       "    <tr>\n",
       "      <th>0</th>\n",
       "      <td>Даже если ты уже давно не студент двери универ...</td>\n",
       "      <td>1</td>\n",
       "      <td>даж студент двер университет открыт прогуля па...</td>\n",
       "    </tr>\n",
       "    <tr>\n",
       "      <th>1</th>\n",
       "      <td>Основание университету в Томске в составе 4 фа...</td>\n",
       "      <td>1</td>\n",
       "      <td>основан университет томск состав факультет ист...</td>\n",
       "    </tr>\n",
       "    <tr>\n",
       "      <th>2</th>\n",
       "      <td>НАЦИОНАЛЬНЫЙ ИССЛЕДОВАТЕЛЬСКИЙ ТОМСКИЙ ГОСУДАР...</td>\n",
       "      <td>1</td>\n",
       "      <td>национальн исследовательск томск государствен ...</td>\n",
       "    </tr>\n",
       "    <tr>\n",
       "      <th>3</th>\n",
       "      <td>Моя жизнь была долго связана с этим университе...</td>\n",
       "      <td>0</td>\n",
       "      <td>мо связа университет мог обычн провинциальн ву...</td>\n",
       "    </tr>\n",
       "    <tr>\n",
       "      <th>4</th>\n",
       "      <td>Кто такой Тура Партхаяна  Я слышал о нем по те...</td>\n",
       "      <td>1</td>\n",
       "      <td>кто тур партхая я слыша телевиден влогер индон...</td>\n",
       "    </tr>\n",
       "  </tbody>\n",
       "</table>\n",
       "</div>"
      ],
      "text/plain": [
       "                                                text  sentiment  \\\n",
       "0  Даже если ты уже давно не студент двери универ...          1   \n",
       "1  Основание университету в Томске в составе 4 фа...          1   \n",
       "2  НАЦИОНАЛЬНЫЙ ИССЛЕДОВАТЕЛЬСКИЙ ТОМСКИЙ ГОСУДАР...          1   \n",
       "3  Моя жизнь была долго связана с этим университе...          0   \n",
       "4  Кто такой Тура Партхаяна  Я слышал о нем по те...          1   \n",
       "\n",
       "                                            new_text  \n",
       "0  даж студент двер университет открыт прогуля па...  \n",
       "1  основан университет томск состав факультет ист...  \n",
       "2  национальн исследовательск томск государствен ...  \n",
       "3  мо связа университет мог обычн провинциальн ву...  \n",
       "4  кто тур партхая я слыша телевиден влогер индон...  "
      ]
     },
     "execution_count": 27,
     "metadata": {},
     "output_type": "execute_result"
    }
   ],
   "source": [
    "df.head()"
   ]
  },
  {
   "cell_type": "code",
   "execution_count": 28,
   "metadata": {},
   "outputs": [
    {
     "name": "stdout",
     "output_type": "stream",
     "text": [
      "acc = 0.8775510204081632, recall = 1.0\n"
     ]
    }
   ],
   "source": [
    "data = df['new_text']\n",
    "tf_idf = TfidfVectorizer(max_features =10000, min_df=5, ngram_range = (1,2))\n",
    "\n",
    "X_train, X_test, y_train, y_test  = train_test_split(data, df['sentiment'], test_size = 0.20, random_state = 42)\n",
    "#model.fit(X_train, y_train, plot = False, eval_set = (X_test, y_test))\n",
    "\n",
    "train_corpus = tf_idf.fit_transform(X_train)\n",
    "test_corpus = tf_idf.transform(X_test)\n",
    "\n",
    "\n",
    "#model = CatBoostClassifier(verbose = False, max_depth = 3, learning_rate=0.3, loss_function = 'MultiClass', iterations = 100, class_weights = [1, 10.64,4.84])\n",
    "model1 = LogisticRegression(solver = 'sag', max_iter = 1000)\n",
    "\n",
    "model1.fit(train_corpus, y_train)\n",
    "prediction1 = model1.predict(test_corpus)\n",
    "print('acc = {}, recall = {}'.format(accuracy_score(y_test, prediction1), recall_score(y_test, prediction1)))"
   ]
  },
  {
   "cell_type": "code",
   "execution_count": 29,
   "metadata": {},
   "outputs": [
    {
     "data": {
      "text/plain": [
       "array([[ 0,  6],\n",
       "       [ 0, 43]], dtype=int64)"
      ]
     },
     "execution_count": 29,
     "metadata": {},
     "output_type": "execute_result"
    }
   ],
   "source": [
    "confusion_matrix(y_test, prediction1)"
   ]
  },
  {
   "cell_type": "code",
   "execution_count": 30,
   "metadata": {},
   "outputs": [
    {
     "name": "stdout",
     "output_type": "stream",
     "text": [
      "acc = 0.8775510204081632, recall = 1.0\n"
     ]
    }
   ],
   "source": [
    "from sklearn.svm import LinearSVC\n",
    "\n",
    "model2 = LinearSVC(loss = 'squared_hinge',\n",
    "    class_weight = {1:7},\n",
    "    C = 0.2)\n",
    "\n",
    "model2.fit(train_corpus, y_train)\n",
    "prediction2 = model2.predict(test_corpus)\n",
    "print('acc = {}, recall = {}'.\n",
    "      format(accuracy_score(y_test, prediction2), recall_score(y_test, prediction2)))"
   ]
  },
  {
   "cell_type": "code",
   "execution_count": 31,
   "metadata": {},
   "outputs": [
    {
     "data": {
      "text/plain": [
       "array([[ 0,  6],\n",
       "       [ 0, 43]], dtype=int64)"
      ]
     },
     "execution_count": 31,
     "metadata": {},
     "output_type": "execute_result"
    }
   ],
   "source": [
    "confusion_matrix(y_test, prediction2)"
   ]
  },
  {
   "cell_type": "code",
   "execution_count": 32,
   "metadata": {},
   "outputs": [
    {
     "data": {
      "text/plain": [
       "1    43\n",
       "0     6\n",
       "Name: sentiment, dtype: int64"
      ]
     },
     "execution_count": 32,
     "metadata": {},
     "output_type": "execute_result"
    }
   ],
   "source": [
    "y_test.value_counts()"
   ]
  },
  {
   "cell_type": "code",
   "execution_count": null,
   "metadata": {},
   "outputs": [],
   "source": []
  },
  {
   "cell_type": "code",
   "execution_count": null,
   "metadata": {},
   "outputs": [],
   "source": []
  },
  {
   "cell_type": "code",
   "execution_count": null,
   "metadata": {},
   "outputs": [],
   "source": []
  },
  {
   "cell_type": "code",
   "execution_count": null,
   "metadata": {},
   "outputs": [],
   "source": []
  }
 ],
 "metadata": {
  "kernelspec": {
   "display_name": "Python 3",
   "language": "python",
   "name": "python3"
  },
  "language_info": {
   "codemirror_mode": {
    "name": "ipython",
    "version": 3
   },
   "file_extension": ".py",
   "mimetype": "text/x-python",
   "name": "python",
   "nbconvert_exporter": "python",
   "pygments_lexer": "ipython3",
   "version": "3.7.1"
  }
 },
 "nbformat": 4,
 "nbformat_minor": 2
}
